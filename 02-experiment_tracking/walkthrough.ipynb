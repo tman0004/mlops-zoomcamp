{
 "cells": [
  {
   "cell_type": "markdown",
   "id": "d06977b2",
   "metadata": {},
   "source": [
    "mlflow ui --backend-store-uri sqlite:///mlflow.db"
   ]
  },
  {
   "cell_type": "code",
   "execution_count": 3,
   "id": "1da942f3",
   "metadata": {},
   "outputs": [],
   "source": [
    "import mlflow"
   ]
  },
  {
   "cell_type": "code",
   "execution_count": 4,
   "id": "6a8b3e2f",
   "metadata": {},
   "outputs": [
    {
     "data": {
      "text/plain": [
       "<Experiment: artifact_location='/workspaces/mlops-zoomcamp/02-experiment_tracking/mlruns/1', creation_time=1747436587009, experiment_id='1', last_update_time=1747436587009, lifecycle_stage='active', name='nyc-taxi-experiment', tags={}>"
      ]
     },
     "execution_count": 4,
     "metadata": {},
     "output_type": "execute_result"
    }
   ],
   "source": [
    "mlflow.set_tracking_uri('sqlite:///mlflow.db')\n",
    "mlflow.set_experiment('nyc-taxi-experiment')"
   ]
  },
  {
   "cell_type": "code",
   "execution_count": null,
   "id": "de0b8327",
   "metadata": {},
   "outputs": [],
   "source": [
    "import pandas as pd\n",
    "import numpy as np\n",
    "from sklearn.feature_extraction import DictVectorizer\n",
    "from sklearn.linear_model import LinearRegression\n",
    "from sklearn.linear_model import Lasso\n",
    "import seaborn as sns\n",
    "import matplotlib as plt\n",
    "from sklearn.metrics import mean_squared_error\n",
    "import pickle\n",
    "\n",
    "import xgboost as xgb\n",
    "\n",
    "from hyperopt import fmin, tpe, hp, STATUS_OK, Trials\n",
    "from hyperopt.pyll import scope"
   ]
  },
  {
   "cell_type": "code",
   "execution_count": 6,
   "id": "3badbf8f",
   "metadata": {},
   "outputs": [],
   "source": [
    "df = pd.read_parquet(\"data/yellow_tripdata_2023-01.parquet\")\n",
    "val_df = pd.read_parquet('data/yellow_tripdata_2023-02.parquet')"
   ]
  },
  {
   "cell_type": "code",
   "execution_count": 7,
   "id": "1e6524e5",
   "metadata": {},
   "outputs": [],
   "source": [
    "df['duration'] = (df['tpep_dropoff_datetime'] - df['tpep_pickup_datetime']).dt.total_seconds() / 60\n",
    "val_df['duration'] = (val_df['tpep_dropoff_datetime'] - val_df['tpep_pickup_datetime']).dt.total_seconds() / 60\n",
    "\n",
    "df = df.query('duration >= 1 and duration <= 60')\n",
    "val_df = val_df.query('duration >= 1 and duration <= 60')"
   ]
  },
  {
   "cell_type": "code",
   "execution_count": 8,
   "id": "a2be4666",
   "metadata": {},
   "outputs": [],
   "source": [
    "categorical = ['PULocationID', 'DOLocationID']\n",
    "df[categorical] = df[categorical].astype(str)\n",
    "val_df[categorical] = val_df[categorical].astype(str)"
   ]
  },
  {
   "cell_type": "code",
   "execution_count": 9,
   "id": "48df44b0",
   "metadata": {},
   "outputs": [],
   "source": [
    "train_dict = df[categorical].to_dict(orient='records')\n",
    "val_dict = val_df[categorical].to_dict(orient='records')"
   ]
  },
  {
   "cell_type": "code",
   "execution_count": 10,
   "id": "c440d2b8",
   "metadata": {},
   "outputs": [],
   "source": [
    "dv = DictVectorizer()\n",
    "X_train = dv.fit_transform(train_dict)\n",
    "X_val = dv.transform(val_dict)\n",
    "\n",
    "target = 'duration'\n",
    "y_train = df[target].values\n",
    "y_val = val_df[target].values"
   ]
  },
  {
   "cell_type": "code",
   "execution_count": null,
   "id": "53af1d2c",
   "metadata": {},
   "outputs": [],
   "source": [
    "lr = LinearRegression()\n",
    "lr.fit(X_train, y_train)"
   ]
  },
  {
   "cell_type": "code",
   "execution_count": null,
   "id": "0063249e",
   "metadata": {},
   "outputs": [],
   "source": [
    "with open('models/lin_reg.pkl', 'wb') as f_out:\n",
    "    pickle.dump((dv, lr), f_out)"
   ]
  },
  {
   "cell_type": "code",
   "execution_count": null,
   "id": "bfb22dbc",
   "metadata": {},
   "outputs": [],
   "source": [
    "y_pred = lr.predict(X_val)"
   ]
  },
  {
   "cell_type": "code",
   "execution_count": null,
   "id": "c126d130",
   "metadata": {},
   "outputs": [],
   "source": [
    "float(np.sqrt(mean_squared_error(y_val, y_pred)))"
   ]
  },
  {
   "cell_type": "markdown",
   "id": "642b30dc",
   "metadata": {},
   "source": [
    "# 2.3"
   ]
  },
  {
   "cell_type": "code",
   "execution_count": null,
   "id": "5efdd608",
   "metadata": {},
   "outputs": [],
   "source": [
    "with mlflow.start_run():\n",
    "    mlflow.set_tag('developer', 'tman0004')\n",
    "\n",
    "    mlflow.log_param('train-data-path', 'data/yellow_tripdata_2023-01.parquet')\n",
    "    mlflow.log_param('valid-data-path', 'data/yellow_tripdata_2023-02.parquet')\n",
    "\n",
    "    alpha = 0.01\n",
    "    mlflow.log_param('alpha', alpha)\n",
    "    lr = Lasso(alpha)\n",
    "    lr.fit(X_train, y_train)\n",
    "\n",
    "    y_pred = lr.predict(X_val)\n",
    "    rmse = float(np.sqrt(mean_squared_error(y_val, y_pred)))\n",
    "    mlflow.log_metric('rmse', rmse)"
   ]
  },
  {
   "cell_type": "code",
   "execution_count": 12,
   "id": "2b120fab",
   "metadata": {},
   "outputs": [],
   "source": [
    "train = xgb.DMatrix(X_train, label=y_train)\n",
    "valid = xgb.DMatrix(X_val, label=y_val)"
   ]
  },
  {
   "cell_type": "code",
   "execution_count": null,
   "id": "73f36d95",
   "metadata": {},
   "outputs": [],
   "source": [
    "def objective(params):\n",
    "    with mlflow.start_run():\n",
    "        mlflow.set_tag(\"model\", \"xgboost\")\n",
    "        mlflow.log_params(params)\n",
    "        booster = xgb.train(\n",
    "            params=params,\n",
    "            dtrain=train,\n",
    "            num_boost_round=1000,\n",
    "            evals=[(valid, 'validation')],\n",
    "            early_stopping_rounds=50\n",
    "        )\n",
    "        y_pred = booster.predict(valid)\n",
    "        rmse = float(np.sqrt(mean_squared_error(y_val, y_pred)))\n",
    "        mlflow.log_metric(\"rmse\", rmse)\n",
    "\n",
    "    return {'loss': rmse, 'status': STATUS_OK}"
   ]
  },
  {
   "cell_type": "code",
   "execution_count": null,
   "id": "58642f48",
   "metadata": {},
   "outputs": [],
   "source": [
    "search_space = {\n",
    "    'max_depth': scope.int(hp.quniform('max_depth', 4, 100, 1)),\n",
    "    'learning_rate': hp.loguniform('learning_rate', -3, 0),\n",
    "    'reg_alpha': hp.loguniform('reg_alpha', -5, -1),\n",
    "    'reg_lambda': hp.loguniform('reg_lambda', -6, -1),\n",
    "    'min_child_weight': hp.loguniform('min_child_weight', -1, 3),\n",
    "    'objective': 'reg:linear',\n",
    "    'seed': 42\n",
    "}\n",
    "\n",
    "best_result = fmin(\n",
    "    fn=objective,\n",
    "    space=search_space,\n",
    "    algo=tpe.suggest,\n",
    "    max_evals=50,\n",
    "    trials=Trials()\n",
    ")"
   ]
  },
  {
   "cell_type": "code",
   "execution_count": 13,
   "id": "495108f9",
   "metadata": {},
   "outputs": [
    {
     "name": "stderr",
     "output_type": "stream",
     "text": [
      "2025/05/16 18:40:55 INFO mlflow.utils.autologging_utils: Created MLflow autologging run with ID 'e55dc8b16b8840848b9a853b228c40db', which will track hyperparameters, performance metrics, model artifacts, and lineage information for the current xgboost workflow\n",
      "c:\\Users\\tman0\\anaconda3\\envs\\exp-tracking-env\\lib\\site-packages\\xgboost\\core.py:158: UserWarning: [18:41:34] WARNING: C:\\buildkite-agent\\builds\\buildkite-windows-cpu-autoscaling-group-i-08cbc0333d8d4aae1-1\\xgboost\\xgboost-ci-windows\\src\\objective\\regression_obj.cu:227: reg:linear is now deprecated in favor of reg:squarederror.\n",
      "  warnings.warn(smsg, UserWarning)\n"
     ]
    },
    {
     "name": "stdout",
     "output_type": "stream",
     "text": [
      "[0]\tvalidation-rmse:9.55691\n",
      "[1]\tvalidation-rmse:9.14126\n",
      "[2]\tvalidation-rmse:8.81143\n",
      "[3]\tvalidation-rmse:8.47926\n",
      "[4]\tvalidation-rmse:8.24807\n",
      "[5]\tvalidation-rmse:8.07030\n",
      "[6]\tvalidation-rmse:7.90747\n",
      "[7]\tvalidation-rmse:7.76855\n",
      "[8]\tvalidation-rmse:7.67264\n",
      "[9]\tvalidation-rmse:7.49945\n",
      "[10]\tvalidation-rmse:7.43364\n",
      "[11]\tvalidation-rmse:7.37173\n",
      "[12]\tvalidation-rmse:7.32484\n",
      "[13]\tvalidation-rmse:7.28572\n",
      "[14]\tvalidation-rmse:7.15281\n",
      "[15]\tvalidation-rmse:7.12299\n",
      "[16]\tvalidation-rmse:7.09362\n",
      "[17]\tvalidation-rmse:7.07014\n",
      "[18]\tvalidation-rmse:7.04888\n",
      "[19]\tvalidation-rmse:6.92740\n",
      "[20]\tvalidation-rmse:6.90768\n",
      "[21]\tvalidation-rmse:6.81168\n",
      "[22]\tvalidation-rmse:6.79530\n",
      "[23]\tvalidation-rmse:6.78326\n",
      "[24]\tvalidation-rmse:6.77143\n",
      "[25]\tvalidation-rmse:6.75656\n",
      "[26]\tvalidation-rmse:6.72900\n",
      "[27]\tvalidation-rmse:6.71478\n",
      "[28]\tvalidation-rmse:6.70465\n",
      "[29]\tvalidation-rmse:6.61078\n",
      "[30]\tvalidation-rmse:6.59977\n",
      "[31]\tvalidation-rmse:6.58997\n",
      "[32]\tvalidation-rmse:6.58183\n",
      "[33]\tvalidation-rmse:6.50019\n",
      "[34]\tvalidation-rmse:6.49501\n",
      "[35]\tvalidation-rmse:6.46940\n",
      "[36]\tvalidation-rmse:6.46088\n",
      "[37]\tvalidation-rmse:6.45438\n",
      "[38]\tvalidation-rmse:6.42276\n",
      "[39]\tvalidation-rmse:6.36123\n",
      "[40]\tvalidation-rmse:6.35742\n",
      "[41]\tvalidation-rmse:6.35291\n",
      "[42]\tvalidation-rmse:6.34555\n",
      "[43]\tvalidation-rmse:6.34061\n",
      "[44]\tvalidation-rmse:6.33658\n",
      "[45]\tvalidation-rmse:6.28463\n",
      "[46]\tvalidation-rmse:6.28093\n",
      "[47]\tvalidation-rmse:6.27451\n",
      "[48]\tvalidation-rmse:6.27079\n",
      "[49]\tvalidation-rmse:6.25843\n",
      "[50]\tvalidation-rmse:6.25401\n",
      "[51]\tvalidation-rmse:6.24981\n",
      "[52]\tvalidation-rmse:6.24322\n",
      "[53]\tvalidation-rmse:6.23891\n",
      "[54]\tvalidation-rmse:6.19811\n",
      "[55]\tvalidation-rmse:6.19497\n",
      "[56]\tvalidation-rmse:6.19251\n",
      "[57]\tvalidation-rmse:6.13863\n",
      "[58]\tvalidation-rmse:6.13558\n",
      "[59]\tvalidation-rmse:6.13207\n",
      "[60]\tvalidation-rmse:6.11755\n",
      "[61]\tvalidation-rmse:6.11530\n",
      "[62]\tvalidation-rmse:6.11272\n",
      "[63]\tvalidation-rmse:6.07111\n",
      "[64]\tvalidation-rmse:6.04995\n",
      "[65]\tvalidation-rmse:6.04798\n",
      "[66]\tvalidation-rmse:6.04122\n",
      "[67]\tvalidation-rmse:6.03818\n",
      "[68]\tvalidation-rmse:6.03516\n",
      "[69]\tvalidation-rmse:6.01933\n",
      "[70]\tvalidation-rmse:6.01366\n",
      "[71]\tvalidation-rmse:6.01201\n",
      "[72]\tvalidation-rmse:6.00997\n",
      "[73]\tvalidation-rmse:6.00828\n",
      "[74]\tvalidation-rmse:5.99304\n",
      "[75]\tvalidation-rmse:5.98944\n",
      "[76]\tvalidation-rmse:5.98785\n",
      "[77]\tvalidation-rmse:5.98569\n",
      "[78]\tvalidation-rmse:5.98347\n",
      "[79]\tvalidation-rmse:5.98047\n",
      "[80]\tvalidation-rmse:5.97885\n",
      "[81]\tvalidation-rmse:5.96316\n",
      "[82]\tvalidation-rmse:5.92932\n",
      "[83]\tvalidation-rmse:5.92045\n",
      "[84]\tvalidation-rmse:5.91853\n",
      "[85]\tvalidation-rmse:5.91686\n",
      "[86]\tvalidation-rmse:5.88783\n",
      "[87]\tvalidation-rmse:5.88610\n",
      "[88]\tvalidation-rmse:5.88323\n",
      "[89]\tvalidation-rmse:5.88218\n",
      "[90]\tvalidation-rmse:5.87776\n",
      "[91]\tvalidation-rmse:5.87511\n",
      "[92]\tvalidation-rmse:5.86555\n",
      "[93]\tvalidation-rmse:5.86453\n",
      "[94]\tvalidation-rmse:5.83739\n",
      "[95]\tvalidation-rmse:5.83593\n",
      "[96]\tvalidation-rmse:5.83449\n",
      "[97]\tvalidation-rmse:5.83335\n",
      "[98]\tvalidation-rmse:5.83101\n",
      "[99]\tvalidation-rmse:5.81095\n",
      "[100]\tvalidation-rmse:5.80908\n",
      "[101]\tvalidation-rmse:5.80604\n",
      "[102]\tvalidation-rmse:5.80487\n",
      "[103]\tvalidation-rmse:5.80323\n",
      "[104]\tvalidation-rmse:5.80258\n",
      "[105]\tvalidation-rmse:5.79639\n",
      "[106]\tvalidation-rmse:5.79144\n",
      "[107]\tvalidation-rmse:5.79022\n",
      "[108]\tvalidation-rmse:5.78813\n",
      "[109]\tvalidation-rmse:5.78742\n",
      "[110]\tvalidation-rmse:5.78644\n",
      "[111]\tvalidation-rmse:5.78559\n",
      "[112]\tvalidation-rmse:5.76340\n",
      "[113]\tvalidation-rmse:5.73847\n",
      "[114]\tvalidation-rmse:5.73659\n",
      "[115]\tvalidation-rmse:5.73477\n",
      "[116]\tvalidation-rmse:5.73225\n",
      "[117]\tvalidation-rmse:5.72703\n",
      "[118]\tvalidation-rmse:5.72531\n",
      "[119]\tvalidation-rmse:5.72488\n",
      "[120]\tvalidation-rmse:5.72407\n",
      "[121]\tvalidation-rmse:5.72307\n",
      "[122]\tvalidation-rmse:5.72087\n",
      "[123]\tvalidation-rmse:5.71942\n",
      "[124]\tvalidation-rmse:5.70822\n",
      "[125]\tvalidation-rmse:5.69260\n",
      "[126]\tvalidation-rmse:5.68988\n",
      "[127]\tvalidation-rmse:5.68276\n",
      "[128]\tvalidation-rmse:5.68171\n",
      "[129]\tvalidation-rmse:5.67975\n",
      "[130]\tvalidation-rmse:5.67936\n",
      "[131]\tvalidation-rmse:5.67803\n",
      "[132]\tvalidation-rmse:5.65906\n",
      "[133]\tvalidation-rmse:5.65555\n",
      "[134]\tvalidation-rmse:5.65477\n",
      "[135]\tvalidation-rmse:5.65376\n",
      "[136]\tvalidation-rmse:5.65274\n",
      "[137]\tvalidation-rmse:5.65199\n",
      "[138]\tvalidation-rmse:5.64828\n",
      "[139]\tvalidation-rmse:5.62845\n",
      "[140]\tvalidation-rmse:5.61477\n",
      "[141]\tvalidation-rmse:5.61090\n",
      "[142]\tvalidation-rmse:5.60991\n",
      "[143]\tvalidation-rmse:5.60911\n",
      "[144]\tvalidation-rmse:5.60783\n",
      "[145]\tvalidation-rmse:5.60694\n",
      "[146]\tvalidation-rmse:5.60650\n",
      "[147]\tvalidation-rmse:5.59189\n",
      "[148]\tvalidation-rmse:5.59103\n",
      "[149]\tvalidation-rmse:5.59027\n",
      "[150]\tvalidation-rmse:5.58911\n",
      "[151]\tvalidation-rmse:5.58864\n",
      "[152]\tvalidation-rmse:5.57992\n",
      "[153]\tvalidation-rmse:5.57795\n",
      "[154]\tvalidation-rmse:5.57735\n",
      "[155]\tvalidation-rmse:5.57668\n",
      "[156]\tvalidation-rmse:5.57324\n",
      "[157]\tvalidation-rmse:5.57256\n",
      "[158]\tvalidation-rmse:5.56280\n",
      "[159]\tvalidation-rmse:5.54902\n",
      "[160]\tvalidation-rmse:5.54714\n",
      "[161]\tvalidation-rmse:5.54628\n",
      "[162]\tvalidation-rmse:5.54508\n",
      "[163]\tvalidation-rmse:5.54460\n",
      "[164]\tvalidation-rmse:5.54423\n",
      "[165]\tvalidation-rmse:5.54388\n",
      "[166]\tvalidation-rmse:5.54319\n",
      "[167]\tvalidation-rmse:5.54258\n",
      "[168]\tvalidation-rmse:5.54060\n",
      "[169]\tvalidation-rmse:5.53789\n",
      "[170]\tvalidation-rmse:5.53541\n",
      "[171]\tvalidation-rmse:5.53331\n",
      "[172]\tvalidation-rmse:5.53163\n",
      "[173]\tvalidation-rmse:5.53073\n",
      "[174]\tvalidation-rmse:5.52950\n",
      "[175]\tvalidation-rmse:5.52921\n",
      "[176]\tvalidation-rmse:5.52504\n",
      "[177]\tvalidation-rmse:5.52385\n",
      "[178]\tvalidation-rmse:5.52222\n",
      "[179]\tvalidation-rmse:5.52092\n",
      "[180]\tvalidation-rmse:5.51976\n",
      "[181]\tvalidation-rmse:5.51834\n",
      "[182]\tvalidation-rmse:5.51197\n",
      "[183]\tvalidation-rmse:5.50611\n",
      "[184]\tvalidation-rmse:5.50585\n",
      "[185]\tvalidation-rmse:5.49967\n",
      "[186]\tvalidation-rmse:5.49773\n",
      "[187]\tvalidation-rmse:5.49757\n",
      "[188]\tvalidation-rmse:5.49675\n",
      "[189]\tvalidation-rmse:5.49547\n",
      "[190]\tvalidation-rmse:5.49533\n",
      "[191]\tvalidation-rmse:5.49400\n",
      "[192]\tvalidation-rmse:5.49385\n",
      "[193]\tvalidation-rmse:5.49328\n",
      "[194]\tvalidation-rmse:5.49263\n",
      "[195]\tvalidation-rmse:5.49234\n",
      "[196]\tvalidation-rmse:5.48707\n",
      "[197]\tvalidation-rmse:5.48651\n",
      "[198]\tvalidation-rmse:5.48571\n",
      "[199]\tvalidation-rmse:5.48304\n",
      "[200]\tvalidation-rmse:5.48216\n",
      "[201]\tvalidation-rmse:5.48142\n",
      "[202]\tvalidation-rmse:5.48048\n",
      "[203]\tvalidation-rmse:5.48025\n",
      "[204]\tvalidation-rmse:5.47446\n",
      "[205]\tvalidation-rmse:5.47281\n",
      "[206]\tvalidation-rmse:5.47270\n",
      "[207]\tvalidation-rmse:5.47209\n",
      "[208]\tvalidation-rmse:5.47157\n",
      "[209]\tvalidation-rmse:5.47142\n",
      "[210]\tvalidation-rmse:5.47102\n",
      "[211]\tvalidation-rmse:5.47089\n",
      "[212]\tvalidation-rmse:5.46789\n",
      "[213]\tvalidation-rmse:5.46709\n",
      "[214]\tvalidation-rmse:5.46681\n",
      "[215]\tvalidation-rmse:5.46635\n",
      "[216]\tvalidation-rmse:5.46591\n",
      "[217]\tvalidation-rmse:5.46573\n",
      "[218]\tvalidation-rmse:5.46548\n",
      "[219]\tvalidation-rmse:5.46517\n",
      "[220]\tvalidation-rmse:5.45452\n",
      "[221]\tvalidation-rmse:5.45129\n",
      "[222]\tvalidation-rmse:5.45088\n",
      "[223]\tvalidation-rmse:5.44901\n",
      "[224]\tvalidation-rmse:5.44808\n",
      "[225]\tvalidation-rmse:5.44737\n",
      "[226]\tvalidation-rmse:5.44726\n",
      "[227]\tvalidation-rmse:5.44667\n",
      "[228]\tvalidation-rmse:5.44657\n",
      "[229]\tvalidation-rmse:5.44625\n",
      "[230]\tvalidation-rmse:5.44598\n",
      "[231]\tvalidation-rmse:5.44565\n",
      "[232]\tvalidation-rmse:5.44485\n",
      "[233]\tvalidation-rmse:5.44444\n",
      "[234]\tvalidation-rmse:5.44415\n",
      "[235]\tvalidation-rmse:5.44375\n",
      "[236]\tvalidation-rmse:5.43678\n",
      "[237]\tvalidation-rmse:5.43641\n",
      "[238]\tvalidation-rmse:5.43594\n",
      "[239]\tvalidation-rmse:5.43530\n",
      "[240]\tvalidation-rmse:5.43249\n",
      "[241]\tvalidation-rmse:5.42843\n",
      "[242]\tvalidation-rmse:5.42784\n",
      "[243]\tvalidation-rmse:5.42777\n",
      "[244]\tvalidation-rmse:5.42143\n",
      "[245]\tvalidation-rmse:5.42121\n",
      "[246]\tvalidation-rmse:5.42069\n",
      "[247]\tvalidation-rmse:5.42041\n",
      "[248]\tvalidation-rmse:5.42018\n",
      "[249]\tvalidation-rmse:5.41412\n",
      "[250]\tvalidation-rmse:5.41379\n",
      "[251]\tvalidation-rmse:5.41358\n",
      "[252]\tvalidation-rmse:5.41338\n",
      "[253]\tvalidation-rmse:5.41220\n",
      "[254]\tvalidation-rmse:5.41182\n",
      "[255]\tvalidation-rmse:5.41177\n",
      "[256]\tvalidation-rmse:5.41151\n",
      "[257]\tvalidation-rmse:5.41128\n",
      "[258]\tvalidation-rmse:5.41016\n",
      "[259]\tvalidation-rmse:5.41001\n",
      "[260]\tvalidation-rmse:5.40984\n",
      "[261]\tvalidation-rmse:5.40954\n",
      "[262]\tvalidation-rmse:5.40944\n",
      "[263]\tvalidation-rmse:5.40922\n",
      "[264]\tvalidation-rmse:5.40908\n",
      "[265]\tvalidation-rmse:5.40873\n",
      "[266]\tvalidation-rmse:5.40848\n",
      "[267]\tvalidation-rmse:5.40842\n",
      "[268]\tvalidation-rmse:5.40780\n",
      "[269]\tvalidation-rmse:5.40725\n",
      "[270]\tvalidation-rmse:5.40700\n",
      "[271]\tvalidation-rmse:5.40633\n",
      "[272]\tvalidation-rmse:5.40621\n",
      "[273]\tvalidation-rmse:5.40585\n",
      "[274]\tvalidation-rmse:5.40560\n",
      "[275]\tvalidation-rmse:5.40540\n",
      "[276]\tvalidation-rmse:5.39961\n",
      "[277]\tvalidation-rmse:5.39930\n",
      "[278]\tvalidation-rmse:5.39905\n",
      "[279]\tvalidation-rmse:5.39551\n",
      "[280]\tvalidation-rmse:5.39110\n",
      "[281]\tvalidation-rmse:5.39049\n",
      "[282]\tvalidation-rmse:5.39024\n",
      "[283]\tvalidation-rmse:5.39005\n",
      "[284]\tvalidation-rmse:5.38988\n",
      "[285]\tvalidation-rmse:5.38977\n",
      "[286]\tvalidation-rmse:5.38932\n",
      "[287]\tvalidation-rmse:5.38929\n",
      "[288]\tvalidation-rmse:5.38921\n",
      "[289]\tvalidation-rmse:5.38910\n",
      "[290]\tvalidation-rmse:5.38896\n",
      "[291]\tvalidation-rmse:5.38887\n",
      "[292]\tvalidation-rmse:5.38876\n",
      "[293]\tvalidation-rmse:5.38861\n",
      "[294]\tvalidation-rmse:5.38851\n",
      "[295]\tvalidation-rmse:5.38845\n",
      "[296]\tvalidation-rmse:5.38841\n",
      "[297]\tvalidation-rmse:5.38835\n",
      "[298]\tvalidation-rmse:5.38800\n",
      "[299]\tvalidation-rmse:5.38791\n"
     ]
    },
    {
     "name": "stderr",
     "output_type": "stream",
     "text": [
      "2025/05/16 18:43:13 WARNING mlflow.xgboost: Failed to infer model signature: could not sample data to infer model signature: please ensure that autologging is enabled before constructing the dataset.\n",
      "2025/05/16 18:43:13 WARNING mlflow.utils.autologging_utils: MLflow autologging encountered a warning: \"c:\\Users\\tman0\\anaconda3\\envs\\exp-tracking-env\\lib\\site-packages\\xgboost\\core.py:158: UserWarning: [18:43:13] WARNING: C:\\buildkite-agent\\builds\\buildkite-windows-cpu-autoscaling-group-i-08cbc0333d8d4aae1-1\\xgboost\\xgboost-ci-windows\\src\\c_api\\c_api.cc:1374: Saving model in the UBJSON format as default.  You can use file extension: `json`, `ubj` or `deprecated` to choose between formats.\"\n",
      "2025/05/16 18:43:23 WARNING mlflow.models.model: Model logged without a signature and input example. Please set `input_example` parameter when logging the model to auto infer the model signature.\n"
     ]
    }
   ],
   "source": [
    "import mlflow.xgboost\n",
    "\n",
    "params = {\n",
    "    'learning_rate': 0.1233407742765768,\n",
    "    'max_depth': 30,\n",
    "    'min_child_weight': 13.092247284357976,\n",
    "    'objective': 'reg:linear',\n",
    "    'reg_alpha': 0.3399656070101837,\n",
    "    'reg_lambda': 0.35806973799616537,\n",
    "    'seed': 42\n",
    "}\n",
    "\n",
    "mlflow.xgboost.autolog()\n",
    "\n",
    "booster = xgb.train(\n",
    "    params=params,\n",
    "    dtrain=train,\n",
    "    num_boost_round=300,\n",
    "    evals=[(valid, 'validation')],\n",
    "    early_stopping_rounds=50\n",
    ")"
   ]
  },
  {
   "cell_type": "markdown",
   "id": "e87b77dc",
   "metadata": {},
   "source": [
    "# 2.4"
   ]
  },
  {
   "cell_type": "code",
   "execution_count": 14,
   "id": "cd4b45d9",
   "metadata": {},
   "outputs": [],
   "source": [
    "mlflow.xgboost.autolog(disable=True)"
   ]
  },
  {
   "cell_type": "code",
   "execution_count": 15,
   "id": "89098e54",
   "metadata": {},
   "outputs": [
    {
     "name": "stderr",
     "output_type": "stream",
     "text": [
      "c:\\Users\\tman0\\anaconda3\\envs\\exp-tracking-env\\lib\\site-packages\\xgboost\\core.py:158: UserWarning: [19:57:54] WARNING: C:\\buildkite-agent\\builds\\buildkite-windows-cpu-autoscaling-group-i-08cbc0333d8d4aae1-1\\xgboost\\xgboost-ci-windows\\src\\objective\\regression_obj.cu:227: reg:linear is now deprecated in favor of reg:squarederror.\n",
      "  warnings.warn(smsg, UserWarning)\n"
     ]
    },
    {
     "name": "stdout",
     "output_type": "stream",
     "text": [
      "[0]\tvalidation-rmse:9.55691\n",
      "[1]\tvalidation-rmse:9.14126\n",
      "[2]\tvalidation-rmse:8.81143\n",
      "[3]\tvalidation-rmse:8.47926\n",
      "[4]\tvalidation-rmse:8.24807\n",
      "[5]\tvalidation-rmse:8.07030\n",
      "[6]\tvalidation-rmse:7.90747\n",
      "[7]\tvalidation-rmse:7.76855\n",
      "[8]\tvalidation-rmse:7.67264\n",
      "[9]\tvalidation-rmse:7.49945\n",
      "[10]\tvalidation-rmse:7.43364\n",
      "[11]\tvalidation-rmse:7.37173\n",
      "[12]\tvalidation-rmse:7.32484\n",
      "[13]\tvalidation-rmse:7.28572\n",
      "[14]\tvalidation-rmse:7.15281\n",
      "[15]\tvalidation-rmse:7.12299\n",
      "[16]\tvalidation-rmse:7.09362\n",
      "[17]\tvalidation-rmse:7.07014\n",
      "[18]\tvalidation-rmse:7.04888\n",
      "[19]\tvalidation-rmse:6.92740\n",
      "[20]\tvalidation-rmse:6.90768\n",
      "[21]\tvalidation-rmse:6.81168\n",
      "[22]\tvalidation-rmse:6.79530\n",
      "[23]\tvalidation-rmse:6.78326\n",
      "[24]\tvalidation-rmse:6.77143\n",
      "[25]\tvalidation-rmse:6.75656\n",
      "[26]\tvalidation-rmse:6.72900\n",
      "[27]\tvalidation-rmse:6.71478\n",
      "[28]\tvalidation-rmse:6.70465\n",
      "[29]\tvalidation-rmse:6.61078\n",
      "[30]\tvalidation-rmse:6.59977\n",
      "[31]\tvalidation-rmse:6.58997\n",
      "[32]\tvalidation-rmse:6.58183\n",
      "[33]\tvalidation-rmse:6.50019\n",
      "[34]\tvalidation-rmse:6.49501\n",
      "[35]\tvalidation-rmse:6.46940\n",
      "[36]\tvalidation-rmse:6.46088\n",
      "[37]\tvalidation-rmse:6.45438\n",
      "[38]\tvalidation-rmse:6.42276\n",
      "[39]\tvalidation-rmse:6.36123\n",
      "[40]\tvalidation-rmse:6.35742\n",
      "[41]\tvalidation-rmse:6.35291\n",
      "[42]\tvalidation-rmse:6.34555\n",
      "[43]\tvalidation-rmse:6.34061\n",
      "[44]\tvalidation-rmse:6.33658\n",
      "[45]\tvalidation-rmse:6.28463\n",
      "[46]\tvalidation-rmse:6.28093\n",
      "[47]\tvalidation-rmse:6.27451\n",
      "[48]\tvalidation-rmse:6.27079\n",
      "[49]\tvalidation-rmse:6.25843\n",
      "[50]\tvalidation-rmse:6.25401\n",
      "[51]\tvalidation-rmse:6.24981\n",
      "[52]\tvalidation-rmse:6.24322\n",
      "[53]\tvalidation-rmse:6.23891\n",
      "[54]\tvalidation-rmse:6.19811\n",
      "[55]\tvalidation-rmse:6.19497\n",
      "[56]\tvalidation-rmse:6.19251\n",
      "[57]\tvalidation-rmse:6.13863\n",
      "[58]\tvalidation-rmse:6.13558\n",
      "[59]\tvalidation-rmse:6.13207\n",
      "[60]\tvalidation-rmse:6.11755\n",
      "[61]\tvalidation-rmse:6.11530\n",
      "[62]\tvalidation-rmse:6.11272\n",
      "[63]\tvalidation-rmse:6.07111\n",
      "[64]\tvalidation-rmse:6.04995\n",
      "[65]\tvalidation-rmse:6.04798\n",
      "[66]\tvalidation-rmse:6.04122\n",
      "[67]\tvalidation-rmse:6.03818\n",
      "[68]\tvalidation-rmse:6.03516\n",
      "[69]\tvalidation-rmse:6.01933\n",
      "[70]\tvalidation-rmse:6.01366\n",
      "[71]\tvalidation-rmse:6.01201\n",
      "[72]\tvalidation-rmse:6.00997\n",
      "[73]\tvalidation-rmse:6.00828\n",
      "[74]\tvalidation-rmse:5.99304\n",
      "[75]\tvalidation-rmse:5.98944\n",
      "[76]\tvalidation-rmse:5.98785\n",
      "[77]\tvalidation-rmse:5.98569\n",
      "[78]\tvalidation-rmse:5.98347\n",
      "[79]\tvalidation-rmse:5.98047\n",
      "[80]\tvalidation-rmse:5.97885\n",
      "[81]\tvalidation-rmse:5.96316\n",
      "[82]\tvalidation-rmse:5.92932\n",
      "[83]\tvalidation-rmse:5.92045\n",
      "[84]\tvalidation-rmse:5.91853\n",
      "[85]\tvalidation-rmse:5.91686\n",
      "[86]\tvalidation-rmse:5.88783\n",
      "[87]\tvalidation-rmse:5.88610\n",
      "[88]\tvalidation-rmse:5.88323\n",
      "[89]\tvalidation-rmse:5.88218\n",
      "[90]\tvalidation-rmse:5.87776\n",
      "[91]\tvalidation-rmse:5.87511\n",
      "[92]\tvalidation-rmse:5.86555\n",
      "[93]\tvalidation-rmse:5.86453\n",
      "[94]\tvalidation-rmse:5.83739\n",
      "[95]\tvalidation-rmse:5.83593\n",
      "[96]\tvalidation-rmse:5.83449\n",
      "[97]\tvalidation-rmse:5.83335\n",
      "[98]\tvalidation-rmse:5.83101\n",
      "[99]\tvalidation-rmse:5.81095\n"
     ]
    },
    {
     "name": "stderr",
     "output_type": "stream",
     "text": [
      "c:\\Users\\tman0\\anaconda3\\envs\\exp-tracking-env\\lib\\site-packages\\xgboost\\core.py:158: UserWarning: [19:58:37] WARNING: C:\\buildkite-agent\\builds\\buildkite-windows-cpu-autoscaling-group-i-08cbc0333d8d4aae1-1\\xgboost\\xgboost-ci-windows\\src\\c_api\\c_api.cc:1374: Saving model in the UBJSON format as default.  You can use file extension: `json`, `ubj` or `deprecated` to choose between formats.\n",
      "  warnings.warn(smsg, UserWarning)\n",
      "2025/05/16 19:58:42 WARNING mlflow.models.model: Model logged without a signature and input example. Please set `input_example` parameter when logging the model to auto infer the model signature.\n"
     ]
    }
   ],
   "source": [
    "import mlflow.xgboost\n",
    "import mlflow.xgboost\n",
    "with mlflow.start_run():\n",
    "    train = xgb.DMatrix(X_train, label=y_train)\n",
    "    valid = xgb.DMatrix(X_val, label=y_val)\n",
    "    \n",
    "    params = {\n",
    "        'learning_rate': 0.1233407742765768,\n",
    "        'max_depth': 30,\n",
    "        'min_child_weight': 13.092247284357976,\n",
    "        'objective': 'reg:linear',\n",
    "        'reg_alpha': 0.3399656070101837,\n",
    "        'reg_lambda': 0.35806973799616537,\n",
    "        'seed': 42\n",
    "    }\n",
    "\n",
    "    mlflow.log_params(params)\n",
    "\n",
    "    booster = xgb.train(\n",
    "        params=params,\n",
    "        dtrain=train,\n",
    "        num_boost_round=100,\n",
    "        evals=[(valid, 'validation')],\n",
    "        early_stopping_rounds=50\n",
    "    )\n",
    "\n",
    "    y_pred = booster.predict(valid)\n",
    "    rmse = float(np.sqrt(mean_squared_error(y_val, y_pred)))\n",
    "    mlflow.log_metric('rmse', rmse)\n",
    "\n",
    "    with open('models/preprocessor.b', 'wb') as f_out:\n",
    "        pickle.dump(dv, f_out)\n",
    "\n",
    "    mlflow.log_artifact('models/preprocessor.b', artifact_path='preprocessor')\n",
    "\n",
    "    mlflow.xgboost.log_model(booster, artifact_path='models_mlflow')\n"
   ]
  },
  {
   "cell_type": "code",
   "execution_count": 16,
   "id": "354c6296",
   "metadata": {},
   "outputs": [],
   "source": [
    "logged_model = 'runs:/31fc9269b3624429b1efdc9e760b2ad3/models_mlflow'\n",
    "\n",
    "# Load model as a PyFuncModel.\n",
    "loaded_model = mlflow.pyfunc.load_model(logged_model)"
   ]
  },
  {
   "cell_type": "code",
   "execution_count": 17,
   "id": "5cc8aa3a",
   "metadata": {},
   "outputs": [
    {
     "data": {
      "text/plain": [
       "mlflow.pyfunc.loaded_model:\n",
       "  artifact_path: models_mlflow\n",
       "  flavor: mlflow.xgboost\n",
       "  run_id: 31fc9269b3624429b1efdc9e760b2ad3"
      ]
     },
     "execution_count": 17,
     "metadata": {},
     "output_type": "execute_result"
    }
   ],
   "source": [
    "loaded_model"
   ]
  },
  {
   "cell_type": "code",
   "execution_count": 18,
   "id": "88c3b606",
   "metadata": {},
   "outputs": [],
   "source": [
    "import mlflow.xgboost\n",
    "\n",
    "\n",
    "xgboost_model = mlflow.xgboost.load_model(logged_model)"
   ]
  },
  {
   "cell_type": "code",
   "execution_count": 20,
   "id": "5aec5d06",
   "metadata": {},
   "outputs": [
    {
     "data": {
      "text/plain": [
       "<xgboost.core.Booster at 0x19780abd550>"
      ]
     },
     "execution_count": 20,
     "metadata": {},
     "output_type": "execute_result"
    }
   ],
   "source": [
    "xgboost_model"
   ]
  },
  {
   "cell_type": "code",
   "execution_count": 21,
   "id": "79bd5db7",
   "metadata": {},
   "outputs": [],
   "source": [
    "y_pred = xgboost_model.predict(valid)"
   ]
  },
  {
   "cell_type": "code",
   "execution_count": 22,
   "id": "a37e02a2",
   "metadata": {},
   "outputs": [
    {
     "data": {
      "text/plain": [
       "array([ 7.4349585, 42.689312 , 15.670577 , 18.74556  , 21.164425 ,\n",
       "        6.0658417, 20.723898 , 10.218073 , 10.719147 , 11.963271 ],\n",
       "      dtype=float32)"
      ]
     },
     "execution_count": 22,
     "metadata": {},
     "output_type": "execute_result"
    }
   ],
   "source": [
    "y_pred[:10]"
   ]
  },
  {
   "cell_type": "markdown",
   "id": "f0f0952c",
   "metadata": {},
   "source": [
    "# 2.5"
   ]
  },
  {
   "cell_type": "code",
   "execution_count": 25,
   "id": "2dfa8b78",
   "metadata": {},
   "outputs": [],
   "source": [
    "from mlflow.tracking import MlflowClient\n",
    "\n",
    "MLFLOW_TRACKING_URI = 'sqlite:///mlflow.db'\n",
    "\n",
    "client = MlflowClient(tracking_uri=MLFLOW_TRACKING_URI)"
   ]
  },
  {
   "cell_type": "code",
   "execution_count": 28,
   "id": "fc2e3ca4",
   "metadata": {},
   "outputs": [
    {
     "data": {
      "text/plain": [
       "[<Experiment: artifact_location='/workspaces/mlops-zoomcamp/02-experiment_tracking/mlruns/1', creation_time=1747436587009, experiment_id='1', last_update_time=1747436587009, lifecycle_stage='active', name='nyc-taxi-experiment', tags={}>,\n",
       " <Experiment: artifact_location='/workspaces/mlops-zoomcamp/02-experiment_tracking/mlruns/0', creation_time=1747436587004, experiment_id='0', last_update_time=1747436587004, lifecycle_stage='active', name='Default', tags={}>]"
      ]
     },
     "execution_count": 28,
     "metadata": {},
     "output_type": "execute_result"
    }
   ],
   "source": [
    "client.search_experiments()"
   ]
  },
  {
   "cell_type": "code",
   "execution_count": 29,
   "id": "7e5ab573",
   "metadata": {},
   "outputs": [],
   "source": [
    "from mlflow.entities import ViewType\n",
    "runs = client.search_runs(\n",
    "    experiment_ids='1',\n",
    "    filter_string='',\n",
    "    run_view_type=ViewType.ACTIVE_ONLY,\n",
    "    max_results=5,\n",
    "    order_by=['metrics.rmse ASC']\n",
    ")"
   ]
  },
  {
   "cell_type": "code",
   "execution_count": 35,
   "id": "cbe73a93",
   "metadata": {},
   "outputs": [
    {
     "name": "stdout",
     "output_type": "stream",
     "text": [
      "run id: 19952056b6284d0ea30dc5b28ac78072, rmse: 5.3229\n"
     ]
    }
   ],
   "source": [
    "for run in runs:\n",
    "    print(f\"run id: {run.info.run_id}, rmse: {run.data.metrics['rmse']:.4f}\")\n",
    "    break"
   ]
  },
  {
   "cell_type": "code",
   "execution_count": 36,
   "id": "150bef6f",
   "metadata": {},
   "outputs": [
    {
     "name": "stderr",
     "output_type": "stream",
     "text": [
      "C:\\Users\\tman0\\AppData\\Local\\Temp\\ipykernel_33936\\613867140.py:1: FutureWarning: ``mlflow.tracking.client.MlflowClient.get_latest_versions`` is deprecated since 2.9.0. Model registry stages will be removed in a future major release. To learn more about the deprecation of model registry stages, see our migration guide here: https://mlflow.org/docs/latest/model-registry.html#migrating-from-stages\n",
      "  client.get_latest_versions(name='nyc-taxi-regressor')\n"
     ]
    },
    {
     "data": {
      "text/plain": [
       "[<ModelVersion: aliases=[], creation_timestamp=1747451731796, current_stage='None', description='', last_updated_timestamp=1747451731796, name='nyc-taxi-regressor', run_id='e55dc8b16b8840848b9a853b228c40db', run_link='', source='/workspaces/mlops-zoomcamp/02-experiment_tracking/mlruns/1/e55dc8b16b8840848b9a853b228c40db/artifacts/model', status='READY', status_message=None, tags={'model': 'xgboost', 'stage': 'staging'}, user_id=None, version=2>]"
      ]
     },
     "execution_count": 36,
     "metadata": {},
     "output_type": "execute_result"
    }
   ],
   "source": [
    "client.get_latest_versions(name='nyc-taxi-regressor')"
   ]
  },
  {
   "cell_type": "code",
   "execution_count": 37,
   "id": "9c4d1f5c",
   "metadata": {},
   "outputs": [
    {
     "data": {
      "text/plain": [
       "'c:\\\\workspaces\\\\mlops-zoomcamp\\\\02-experiment_tracking\\\\mlruns\\\\1\\\\31fc9269b3624429b1efdc9e760b2ad3\\\\artifacts\\\\preprocessor'"
      ]
     },
     "execution_count": 37,
     "metadata": {},
     "output_type": "execute_result"
    }
   ],
   "source": [
    "client.download_artifacts(run_id='31fc9269b3624429b1efdc9e760b2ad3', path='preprocessor')"
   ]
  }
 ],
 "metadata": {
  "kernelspec": {
   "display_name": "exp-tracking-env",
   "language": "python",
   "name": "python3"
  },
  "language_info": {
   "codemirror_mode": {
    "name": "ipython",
    "version": 3
   },
   "file_extension": ".py",
   "mimetype": "text/x-python",
   "name": "python",
   "nbconvert_exporter": "python",
   "pygments_lexer": "ipython3",
   "version": "3.9.12"
  }
 },
 "nbformat": 4,
 "nbformat_minor": 5
}
